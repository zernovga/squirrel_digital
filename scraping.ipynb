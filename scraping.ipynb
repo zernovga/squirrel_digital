{
 "cells": [
  {
   "cell_type": "code",
   "execution_count": 117,
   "metadata": {},
   "outputs": [],
   "source": [
    "import requests\n",
    "from bs4 import BeautifulSoup\n",
    "from tqdm.notebook import tqdm, trange"
   ]
  },
  {
   "cell_type": "code",
   "execution_count": 118,
   "metadata": {},
   "outputs": [],
   "source": [
    "url = \"http://citystar.ru/detal.htm?d=43&nm=%CE%E1%FA%FF%E2%EB%E5%ED%E8%FF+%2D+%CF%F0%EE%E4%E0%EC+%EA%E2%E0%F0%F2%E8%F0%F3+%E2+%E3%2E+%CC%E0%E3%ED%E8%F2%EE%E3%EE%F0%F1%EA%E5&pN=\"\n",
    "\n",
    "host = \"localhost\"\n",
    "user = \"root\"\n",
    "pw = ''\n",
    "db = 'appartments'\n",
    "\n",
    "num_pages = 6"
   ]
  },
  {
   "cell_type": "code",
   "execution_count": 119,
   "metadata": {},
   "outputs": [],
   "source": [
    "headers = {\n",
    "    'authority': 'www.citystar.ru',\n",
    "    'cache-control': 'max-age=0',\n",
    "    'upgrade-insecure-requests': '1',\n",
    "    'user-agent': 'Mozilla/5.0 (Windows NT 10.0; Win64; x64) AppleWebKit/537.36 (KHTML, like Gecko) Chrome/80.0.3987.106 Safari/537.36',\n",
    "    'sec-fetch-dest': 'document',\n",
    "    'accept': 'text/html,application/xhtml+xml,application/xml;q=0.9,image/webp,image/apng,*/*;q=0.8,application/signed-exchange;v=b3;q=0.9',\n",
    "    'sec-fetch-site': 'same-origin',\n",
    "    'sec-fetch-mode': 'navigate',\n",
    "    'sec-fetch-user': '?1',\n",
    "    'accept-language': 'ru,en;q=0.9',\n",
    "}\n",
    "\n",
    "session = requests.session()"
   ]
  },
  {
   "cell_type": "code",
   "execution_count": 120,
   "metadata": {},
   "outputs": [],
   "source": [
    "def create_server_connection(host_name, user_name, user_password):\n",
    "    connection = None\n",
    "    try:\n",
    "        connection = mysql.connector.connect(\n",
    "            host=host_name,\n",
    "            user=user_name,\n",
    "            passwd=user_password\n",
    "        )\n",
    "        print(\"MySQL server connection successful\")\n",
    "    except Error as err:\n",
    "        print(f\"Error: '{err}'\")\n",
    "\n",
    "    return connection\n",
    "\n",
    "def create_db_connection(host_name, user_name, user_password, db_name):\n",
    "    connection = None\n",
    "    try:\n",
    "        connection = mysql.connector.connect(\n",
    "            host=host_name,\n",
    "            user=user_name,\n",
    "            passwd=user_password,\n",
    "            database=db_name\n",
    "        )\n",
    "        print(\"MySQL Database connection successful\")\n",
    "    except Error as err:\n",
    "        print(f\"Error: '{err}'\")\n",
    "\n",
    "    return connection\n",
    "\n",
    "def execute_query(connection, query):\n",
    "    cursor = connection.cursor()\n",
    "    try:\n",
    "        cursor.execute(query)\n",
    "        connection.commit()\n",
    "        # print(\"Query successful\")\n",
    "    except Error as err:\n",
    "        print(f\"Error: '{err}'\")"
   ]
  },
  {
   "cell_type": "code",
   "execution_count": 121,
   "metadata": {},
   "outputs": [
    {
     "name": "stdout",
     "output_type": "stream",
     "text": [
      "MySQL server connection successful\n",
      "MySQL Database connection successful\n"
     ]
    }
   ],
   "source": [
    "connection = create_server_connection(host, user, pw)\n",
    "execute_query(connection, \"CREATE DATABASE IF NOT EXISTS appartments;\")\n",
    "\n",
    "connection = create_db_connection(host, user, pw, db)\n",
    "execute_query(connection, \"\"\"CREATE TABLE IF NOT EXISTS property (\n",
    "    id INT AUTO_INCREMENT PRIMARY KEY,\n",
    "    rooms INT,\n",
    "    floor INT,\n",
    "    floors_in_house INT,\n",
    "    floor_relation FLOAT,\n",
    "    area FLOAT,\n",
    "    area_living FLOAT,\n",
    "    area_kitchen FLOAT,\n",
    "    price INT\n",
    ");\"\"\")"
   ]
  },
  {
   "cell_type": "code",
   "execution_count": 123,
   "metadata": {},
   "outputs": [
    {
     "data": {
      "application/vnd.jupyter.widget-view+json": {
       "model_id": "eeb97773f0cd455dadfeded8f8ef90ca",
       "version_major": 2,
       "version_minor": 0
      },
      "text/plain": [
       "  0%|          | 0/6 [00:00<?, ?it/s]"
      ]
     },
     "metadata": {},
     "output_type": "display_data"
    },
    {
     "name": "stdout",
     "output_type": "stream",
     "text": [
      "Success\n",
      "Получено записей: 102\n"
     ]
    },
    {
     "data": {
      "application/vnd.jupyter.widget-view+json": {
       "model_id": "34dc93f335794ce389168ec658e5dc7c",
       "version_major": 2,
       "version_minor": 0
      },
      "text/plain": [
       "  0%|          | 0/102 [00:00<?, ?it/s]"
      ]
     },
     "metadata": {},
     "output_type": "display_data"
    },
    {
     "name": "stdout",
     "output_type": "stream",
     "text": [
      "An exception occurred: list index out of range\n",
      "An exception occurred: list index out of range\n",
      "An exception occurred: list index out of range\n",
      "An exception occurred: list index out of range\n",
      "WOW!\n",
      "Error: '1054 (42S22): Unknown column 'Многокомнатная' in 'field list''\n",
      "An exception occurred: division by zero\n",
      "An exception occurred: division by zero\n",
      "An exception occurred: division by zero\n",
      "Success\n",
      "Получено записей: 102\n"
     ]
    },
    {
     "data": {
      "application/vnd.jupyter.widget-view+json": {
       "model_id": "ba4ae27ec4de45fa91fe7900829ca474",
       "version_major": 2,
       "version_minor": 0
      },
      "text/plain": [
       "  0%|          | 0/102 [00:00<?, ?it/s]"
      ]
     },
     "metadata": {},
     "output_type": "display_data"
    },
    {
     "name": "stdout",
     "output_type": "stream",
     "text": [
      "An exception occurred: division by zero\n",
      "An exception occurred: list index out of range\n",
      "An exception occurred: division by zero\n",
      "An exception occurred: list index out of range\n",
      "An exception occurred: list index out of range\n",
      "Success\n",
      "Получено записей: 102\n"
     ]
    },
    {
     "data": {
      "application/vnd.jupyter.widget-view+json": {
       "model_id": "907cbdd9eb694655a08969075a2f159e",
       "version_major": 2,
       "version_minor": 0
      },
      "text/plain": [
       "  0%|          | 0/102 [00:00<?, ?it/s]"
      ]
     },
     "metadata": {},
     "output_type": "display_data"
    },
    {
     "name": "stdout",
     "output_type": "stream",
     "text": [
      "An exception occurred: list index out of range\n",
      "An exception occurred: list index out of range\n",
      "An exception occurred: division by zero\n",
      "An exception occurred: list index out of range\n",
      "An exception occurred: division by zero\n",
      "An exception occurred: division by zero\n",
      "WOW!\n",
      "Error: '1054 (42S22): Unknown column 'Многокомнатная' in 'field list''\n",
      "An exception occurred: list index out of range\n",
      "An exception occurred: division by zero\n",
      "Success\n",
      "Получено записей: 102\n"
     ]
    },
    {
     "data": {
      "application/vnd.jupyter.widget-view+json": {
       "model_id": "b5e3151f7a7840d8ae6a9f4d3257e2c3",
       "version_major": 2,
       "version_minor": 0
      },
      "text/plain": [
       "  0%|          | 0/102 [00:00<?, ?it/s]"
      ]
     },
     "metadata": {},
     "output_type": "display_data"
    },
    {
     "name": "stdout",
     "output_type": "stream",
     "text": [
      "An exception occurred: list index out of range\n",
      "An exception occurred: division by zero\n",
      "An exception occurred: list index out of range\n",
      "WOW!\n",
      "Error: '1054 (42S22): Unknown column 'Многокомнатная' in 'field list''\n",
      "WOW!\n",
      "Error: '1054 (42S22): Unknown column 'Многокомнатная' in 'field list''\n",
      "An exception occurred: division by zero\n",
      "An exception occurred: division by zero\n",
      "An exception occurred: division by zero\n",
      "An exception occurred: division by zero\n",
      "An exception occurred: division by zero\n",
      "WOW!\n",
      "An exception occurred: division by zero\n",
      "Success\n",
      "Получено записей: 102\n"
     ]
    },
    {
     "data": {
      "application/vnd.jupyter.widget-view+json": {
       "model_id": "bfd8ba19bd54454ca46a6cf47a8e1f61",
       "version_major": 2,
       "version_minor": 0
      },
      "text/plain": [
       "  0%|          | 0/102 [00:00<?, ?it/s]"
      ]
     },
     "metadata": {},
     "output_type": "display_data"
    },
    {
     "name": "stdout",
     "output_type": "stream",
     "text": [
      "An exception occurred: list index out of range\n",
      "An exception occurred: division by zero\n",
      "An exception occurred: division by zero\n",
      "WOW!\n",
      "Error: '1054 (42S22): Unknown column 'Многокомнатная' in 'field list''\n",
      "An exception occurred: list index out of range\n",
      "An exception occurred: division by zero\n",
      "WOW!\n",
      "An exception occurred: division by zero\n",
      "An exception occurred: division by zero\n",
      "An exception occurred: list index out of range\n",
      "An exception occurred: division by zero\n",
      "Success\n",
      "Получено записей: 33\n"
     ]
    },
    {
     "data": {
      "application/vnd.jupyter.widget-view+json": {
       "model_id": "731339a9ebee416b9b37dcc6e15c1715",
       "version_major": 2,
       "version_minor": 0
      },
      "text/plain": [
       "  0%|          | 0/33 [00:00<?, ?it/s]"
      ]
     },
     "metadata": {},
     "output_type": "display_data"
    },
    {
     "name": "stdout",
     "output_type": "stream",
     "text": [
      "An exception occurred: list index out of range\n",
      "WOW!\n",
      "Error: '1054 (42S22): Unknown column 'Многокомнатная' in 'field list''\n",
      "WOW!\n",
      "Error: '1054 (42S22): Unknown column 'Многокомнатная' in 'field list''\n",
      "An exception occurred: division by zero\n",
      "An exception occurred: list index out of range\n",
      "An exception occurred: division by zero\n"
     ]
    }
   ],
   "source": [
    "query = \"DELETE FROM property;\"\n",
    "execute_query(connection, query)\n",
    "\n",
    "query = \"ALTER TABLE property AUTO_INCREMENT = 0;\"\n",
    "execute_query(connection, query)\n",
    "\n",
    "pbar_1 = trange(1, num_pages+1)\n",
    "for i in pbar_1:\n",
    "    response = session.get(url+str(i), headers=headers)\n",
    "\n",
    "    if response.status_code == 200:\n",
    "        pbar_1.write(\"Success\")\n",
    "        # print()\n",
    "    else:\n",
    "        print(\"Bad result\")\n",
    "\n",
    "    soup = BeautifulSoup(response.content, 'html.parser')\n",
    "\n",
    "    rows = soup.find_all('tr', class_='tbb')\n",
    "    print(f\"Получено записей: {len(rows)}\")\n",
    "\n",
    "    for r in tqdm(rows):\n",
    "        try:\n",
    "            params = r.find_all('td', class_='ttx')\n",
    "\n",
    "            if ' ' in params[1].text:\n",
    "                rooms = params[1].text.strip().split()[0]\n",
    "            else:\n",
    "                rooms = params[1].text.strip()\n",
    "            \n",
    "            if rooms[0] == 'О':\n",
    "                rooms = 1\n",
    "            elif rooms[0] == 'Д':\n",
    "                rooms = 2\n",
    "            elif rooms[0] == 'Т':\n",
    "                rooms = 3\n",
    "            elif rooms[0] == 'Ч':\n",
    "                rooms = 4\n",
    "            elif rooms[0] == 'П':\n",
    "                rooms = 5\n",
    "            elif rooms[0] == 'Ш':\n",
    "                rooms = 6\n",
    "            else:\n",
    "                print('WOW!')\n",
    "\n",
    "            floors = list(map(int, params[4].text.strip().split('/')))\n",
    "\n",
    "            query = f\"INSERT INTO property (rooms, floor, floors_in_house, floor_relation, \" \\\n",
    "                + f\"area, area_living, area_kitchen, price) VALUES ({rooms}, {floors[0]}, \" \\\n",
    "                + f\"{floors[1]}, {(floors[0] - 1) / (floors[1] - 1)}, {params[5].text}, \" \\\n",
    "                + f\"{params[6].text}, {params[7].text}, {params[9].text});\"\n",
    "\n",
    "            execute_query(connection, query)\n",
    "\n",
    "        except Exception as error:\n",
    "            print(\"An exception occurred:\", error)"
   ]
  }
 ],
 "metadata": {
  "kernelspec": {
   "display_name": "rest_ds",
   "language": "python",
   "name": "python3"
  },
  "language_info": {
   "codemirror_mode": {
    "name": "ipython",
    "version": 3
   },
   "file_extension": ".py",
   "mimetype": "text/x-python",
   "name": "python",
   "nbconvert_exporter": "python",
   "pygments_lexer": "ipython3",
   "version": "3.11.4"
  },
  "orig_nbformat": 4
 },
 "nbformat": 4,
 "nbformat_minor": 2
}
